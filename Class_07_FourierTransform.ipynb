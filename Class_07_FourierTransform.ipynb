{
 "cells": [
  {
   "cell_type": "markdown",
   "metadata": {},
   "source": [
    "Universidade Federal do Rio Grande do Sul (UFRGS)   \n",
    "Programa de Pós-Graduação em Engenharia Civil (PPGEC)   \n",
    "\n",
    "# PEC00025: Introduction to Vibration Theory\n",
    "\n",
    "\n",
    "### Class 07 - The Fourier Transform\n",
    "\n",
    "[1.   Introduction](#section_1)  \n",
    "[2.   Formal definition](#section_2)  \n",
    "[3.   Fourier transform of some basic functions](#section_3)  \n",
    "[3.1. Constant function](#section_31)  \n",
    "[3.2. Sine and cosine functions](#section_32)  \n",
    "[4.   Transformation of derivatives](#section_4)  \n",
    "[5.   Convolution and translation theorems](#section_5)  \n",
    "[6.   The Fast Fourier Transform (FFT)](#section_6)  \n",
    "[7.   The spectral density and the periodogram](#section_7)  \n",
    "[7.1. Definition](#section_71)  \n",
    "[7.2. Example with a white noise](#section_72)  \n",
    "[7.3. Example with an accelerometer signal](#section_73)  \n",
    "[8.   Assignment](#section_8)\n",
    "\n",
    "---\n",
    "_Prof. Marcelo M. Rocha, Dr.techn._ [(ORCID)](https://orcid.org/0000-0001-5640-1020)  \n",
    "_Porto Alegre, RS, Brazil_ "
   ]
  },
  {
   "cell_type": "code",
   "execution_count": 91,
   "metadata": {},
   "outputs": [],
   "source": [
    "# Importing Python modules required for this notebook\n",
    "# (this cell must be executed with \"shift+enter\" before any other Python cell)\n",
    "\n",
    "import numpy as np\n",
    "import matplotlib.pyplot as plt\n",
    "from   MRPy import MRPy\n"
   ]
  },
  {
   "cell_type": "markdown",
   "metadata": {},
   "source": [
    "## 1. Introduction <a name=\"section_1\"></a> \n",
    "\n",
    "To understand the _Fourier transform_ we can firstly recall the _Fourier series_ concept, \n",
    "according which any _periodic function_ with period $T$ can be expressed as a sum of \n",
    "sines and cosines:\n",
    "\n",
    "$$ f(t) =   a_0 + \\sum_{k = 1}^\\infty \n",
    "           {a_k \\, \\cos \\omega_k t + b_k \\, \\sin \\omega_k t}$$\n",
    "\n",
    "with $f(t) = f(t + T)$ and $\\omega_k = 2k\\pi/T$, where:\n",
    "\n",
    "\\begin{align*}\n",
    " a_0 &= \\frac{1}{T} \\int_{-T/2}^{T/2} f(t) \\; dt \\\\ \\\\\n",
    " a_k &= \\frac{2}{T} \\int_{-T/2}^{T/2} \\cos \\omega_k t \\; f(t) \\; dt \\\\ \\\\\n",
    " b_k &= \\frac{2}{T} \\int_{-T/2}^{T/2} \\sin \\omega_k t \\; f(t) \\; dt\n",
    "\\end{align*}\n",
    "\n",
    "with $k = 1, 2, \\dots\\ \\infty$.\n",
    "Recalling that sine and cosine functions have zero mean implies that the \n",
    "series coefficient $a_0$ represents the mean value of function $f(t)$.\n",
    "For example, it can be shown that the Fourier series expansion of a \n",
    "_zero mean square wave_ is:\n",
    "\n",
    "$$ f(t) =   \\frac{4}{\\pi} \\; \\sum_{k = 1, 3, 5...}^\\infty \n",
    "            \\frac{1}{k}   \\;  \\sin \\omega_{2k+1} t $$\n",
    "\n",
    "which can be verified with some few Python lines as follows.\n",
    "Firstly we define a zero mean square wave with periodicity $T = 1$s:\n"
   ]
  },
  {
   "cell_type": "code",
   "execution_count": 92,
   "metadata": {},
   "outputs": [
    {
     "name": "stdout",
     "output_type": "stream",
     "text": [
      "4 1\n"
     ]
    }
   ],
   "source": [
    "print(9//2, 9%2)\n"
   ]
  },
  {
   "cell_type": "code",
   "execution_count": 93,
   "metadata": {},
   "outputs": [
    {
     "name": "stdout",
     "output_type": "stream",
     "text": [
      "500\n"
     ]
    },
    {
     "data": {
      "image/png": "[encoded data removed]",
      "text/plain": [
       "<Figure size 432x288 with 1 Axes>"
      ]
     },
     "metadata": {
      "needs_background": "light"
     },
     "output_type": "display_data"
    }
   ],
   "source": [
    "T  =  1           # function periodicity in seconds\n",
    "N  =  1000        # number of discretization points\n",
    "n2 = N//2\n",
    "\n",
    "print(n2)\n",
    "\n",
    "t  =  np.linspace(0, T, N)\n",
    "f1 =  np.zeros(N)\n",
    "\n",
    "f1[:N//2] = 2.0   # first half period is filled\n",
    "f1 =   f1 - 1.0   # f1 has zero mean and amplitude one\n",
    "\n",
    "plt.plot(t,f1)\n",
    "plt.grid(True)\n"
   ]
  },
  {
   "cell_type": "markdown",
   "metadata": {},
   "source": [
    "Then we reconstitutes this same function from Fourier series as given before, but limiting\n",
    "the infinite summation to only ```Nk``` terms:"
   ]
  },
  {
   "cell_type": "code",
   "execution_count": 99,
   "metadata": {},
   "outputs": [
    {
     "data": {
      "image/png": "[encoded data removed]",
      "text/plain": [
       "<Figure size 576x432 with 1 Axes>"
      ]
     },
     "metadata": {
      "needs_background": "light"
     },
     "output_type": "display_data"
    }
   ],
   "source": [
    "Nk =  51\n",
    "f2 =  np.zeros(N)\n",
    "\n",
    "for k in range(1, Nk+1, 2):\n",
    "    \n",
    "    wk   =  2*k*np.pi/T\n",
    "    f2   += ((np.sin(wk*t))/k)\n",
    "    \n",
    "      \n",
    "f2 *= 4/np.pi\n",
    "\n",
    "\n",
    "plt.figure(1, figsize=(8, 6), clear=True)\n",
    "plt.plot(t, f1, 'b', t, f2, 'r')\n",
    "\n",
    "plt.xlim( 0, T);  plt.xlabel('time (s)') \n",
    "plt.ylim(-2, 2);  plt.ylabel('f(t)') \n",
    "\n",
    "plt.grid(True) \n"
   ]
  },
  {
   "cell_type": "markdown",
   "metadata": {},
   "source": [
    "The approximation accuracy can be explored by changing the value assigned to ```Nk``` in\n",
    "the calculation above. \n",
    "\n",
    "It must be emphasized that the series coefficients $a_k$ and $b_k$ hold information about\n",
    "how to _reconstitutes_ the original function $f(t)$, so they may be seen as _transformed_\n",
    "functions of variable $\\omega_k$ instead of variable $t$.\n",
    "We will come back later showing how to numerically estimate the Fourier coefficients \n",
    "for any periodic function.\n",
    "\n",
    "Once the Fourier series concept has been understood, the _Fourier transform_ is presented \n",
    "in the next section as a extension of the Fourier series concept for $T \\rightarrow \\infty$.\n"
   ]
  },
  {
   "cell_type": "markdown",
   "metadata": {},
   "source": [
    "## 2. Formal definition  <a name=\"section_2\"></a> \n",
    "\n",
    "The Fourier series expansion can also be expressed for any real or complex function $f(t)$\n",
    "by replacing the sine and cosine functions in the previous definition with the \n",
    "Euler's formula:\n",
    "\n",
    "$$ e^{i\\omega_k t} = \\cos \\omega_k t + i \\sin \\omega_k t$$\n",
    "\n",
    "what gives:\n",
    "\n",
    "$$ f(t) =  \\sum_{k = -\\infty}^\\infty {F_k \\, e^{i \\omega_k t}} $$\n",
    "\n",
    "where:\n",
    "\n",
    "$$ F_k = \\frac{1}{T} \\int_{-T/2}^{T/2} {e^{-i \\omega_k t}} \\; f(t) \\; dt $$\n",
    "\n",
    "with $ k = 0, \\pm 1, \\pm 2, \\dots\\, \\pm \\infty$.\n",
    "\n",
    "Now the function periodicity is allowed to increase to infinite to yield the following limits:\n",
    "\n",
    "\\begin{align*}\n",
    "                               T  &\\rightarrow   \\infty    \\\\\n",
    "      \\omega_k = k \\Delta \\omega  &\\rightarrow   \\omega    \\\\\n",
    "          \\Delta \\omega = 2\\pi/T  &\\rightarrow  d\\omega\n",
    "\\end{align*}\n",
    "\n",
    "and also the definition:\n",
    "\n",
    "$$ \\lim_{T \\rightarrow \\infty} \\; \\left( T \\; F_k  \\right)\n",
    " = \\lim_{\\Delta \\omega \\rightarrow 0} \\; \\left( \\frac{2 \\pi} {\\Delta \\omega} \\; F_k \\right)\n",
    " = F(\\omega)$$\n",
    "\n",
    "which replaced on the series expansion for $f(t)$ gives:\n",
    "\n",
    "$$ f(t) = \\lim_{\\Delta \\omega \\rightarrow 0} \\; \n",
    "          \\left[ \\frac{1}{2 \\pi} \\sum_{k = -\\infty}^\\infty  e^{i \\omega_k t} \n",
    "          \\left( \\frac{2 \\pi}{\\Delta \\omega} \\; F_k  \\right)\n",
    "          \\Delta \\omega \\right] $$\n",
    "\n",
    "and hence:\n",
    "\n",
    "$$ f(t) = \\frac{1}{2\\pi}\\int_{-\\infty}^{\\infty} {e^{i\\omega t}\\; F(\\omega) \\; d\\omega}\n",
    "        = \\mathscr{F}^{-1} \\left\\{ F(\\omega) \\right\\} $$\n",
    "\n",
    "with:\n",
    "\n",
    "$$ F(\\omega) = \\int_{-\\infty}^{\\infty} e^{-i\\omega t}\\; f(t) \\; dt \n",
    "             = \\mathscr{F}\\left\\{ f(t) \\right\\} $$\n",
    "\n",
    "which are the inverse and the direct _Fourier Transform_ definitions, respectively.\n",
    "Observing that both integral bounds are infinite, the function $f(t)$ \n",
    "must fulfill some special conditions such that the integral convergence\n",
    "can be ensured.\n",
    "The most important condition is that the integral of $\\left| f(t) \\right|$ \n",
    "over the complete domain exists:\n",
    "\n",
    "$$ \\exists \\int_{-\\infty}^{\\infty} \\left| f(\\xi) \\right| \\; d\\xi \\in {\\mathbb C}$$\n",
    "\n",
    "although in some special cases the transformation is possible even if this \n",
    "condition is not fulfilled.\n",
    "\n",
    "The transform of a given function and its inverse constitutes a so-called\n",
    "_transform pair_, usually represented as:\n",
    "\n",
    "$$ f(t) \\Longleftrightarrow F(\\omega) $$\n",
    "\n",
    "While the use of Laplace transforms mostly rely upon _lookup tables_ or CAS \n",
    "(_Computer Algebra Systems_), the Fourier transform, both direct and inverse, \n",
    "is usually evaluated by means of numerical techniques. \n",
    "Nevertheless, some fundamental functions and theorems must receive special \n",
    "attention as follows.\n"
   ]
  },
  {
   "cell_type": "markdown",
   "metadata": {},
   "source": [
    "## 3. Fourier transform of some basic functions <a name=\"section_3\"></a> \n",
    "\n",
    "### 3.1. Constant function <a name=\"section_31\"></a> \n",
    "\n",
    "The constant function, $f(t) = c$, does not fulfill the condition for the transform existence\n",
    "(its integral over the whole domain is infinite), but by assuming that the inverse\n",
    "transform exists:\n",
    "\n",
    "$$ c  = \\frac{1}{2 \\pi} \\int_{-\\infty}^{\\infty} e^{i\\omega t}\\; F(\\omega) \\; dt $$\n",
    "\n",
    "it can be observed that the only function satifying the integral is the Dirac's Delta:\n",
    "\n",
    "$$ F(\\omega) = 2\\pi c \\; \\delta(\\omega) $$\n",
    "\n",
    "Recalling that the Fourier transform is a linear operator, the function $f(t)$ can be\n",
    "decomposed as its mean value superposed to a fluctuation:\n",
    "\n",
    "$$f(t) = \\bar{f} + \\tilde{f}(t) $$\n",
    "\n",
    "This implies that, whenever the function has a non-zero mean value, its\n",
    "Fourier transform will also present an impulse function at the origin, $\\omega = 0$.\n",
    "We will numerically demonstrate this result later on.\n"
   ]
  },
  {
   "cell_type": "markdown",
   "metadata": {},
   "source": [
    "### 3.2. Sine and cosine functions <a name=\"section_32\"></a> \n",
    "\n",
    "The trigonometric functions $\\sin(\\omega_0 t)$ and $\\cos(\\omega_0 t)$ also do not fulfill\n",
    "the condition for transform existence but, in the same way as for the constant function,\n",
    "a meaningful transform can be found. \n",
    "Observe that a given $\\omega_0$ is being used instead of the independent variable $\\omega$.\n",
    "\n",
    "Let us assume that the inverse transform of the Euler's formula exists:\n",
    "\n",
    "$$ f(t) = e^{i\\omega_0 t} = \\frac{1}{2 \\pi} \n",
    "          \\int_{-\\infty}^{\\infty} e^{i\\omega t}\\; F(\\omega) \\; dt $$\n",
    "\n",
    "then again the only function satisfying this integral is the Dirac's Delta at $\\omega_0$.\n",
    "\n",
    "$$ F(\\omega) = 2 \\pi \\; \\delta (\\omega - \\omega_0)$$\n",
    "\n",
    "By going back from Euler's formula it can be easily demonstrated that for the cosine function\n",
    "it gives:\n",
    "\n",
    "$$ \\mathscr{F} \\left\\{ \\cos (\\omega_0 t) \\right\\} = \n",
    "   \\pi \\left[ \\delta(\\omega + \\omega_0) + \\delta(\\omega - \\omega_0) \\right]$$\n",
    "\n",
    "and similarly for the sine function:\n",
    "\n",
    "$$ \\mathscr{F} \\left\\{ \\sin (\\omega_0 t) \\right\\} = \n",
    "   i\\pi \\left[ \\delta(\\omega + \\omega_0) - \\delta(\\omega - \\omega_0) \\right]$$\n",
    "\n",
    "These two transforms are depicted below.\n",
    "\n",
    "<img src=\"images/Fourier_sine_cosine.png\" alt=\"Heaviside\" width=\"720px\"/>\n",
    "\n",
    "It can be seen that the cosine transform converges to the constant function transform\n",
    "as the frequency $\\omega_0$ goes to zero.\n",
    "These results will also be demonstrated after we introduce the numerical approach\n",
    "to the Fourier transform.\n"
   ]
  },
  {
   "cell_type": "markdown",
   "metadata": {},
   "source": [
    "## 4. Transformation of derivatives <a name=\"section_4\"></a> \n",
    "\n",
    "The transformation of derivatives is essential for using Fourier transform \n",
    "for solving differential equations.\n",
    "The transform of a derivative is expressed as:\n",
    "\n",
    "$$ \\mathscr{F} \\left\\{ \\dot{f}(t) \\right\\} = \n",
    "   \\int_{-\\infty}^{\\infty} e^{-i\\omega t} \\; \\dot{f}(t) \\; dt $$\n",
    "\n",
    "This can be solved through integration by parts by defining:\n",
    "\n",
    "\\begin{array}{ll}\n",
    "   u  &= e^{-i\\omega t}              \\hspace{2cm}  &dv = \\dot{f}(t) \\; dt \\\\\n",
    "   du &= -i\\omega e^{-i\\omega t} dt                &v  = f(t)         \n",
    "\\end{array}\n",
    "\n",
    "and replacing in:\n",
    "\n",
    "$$ \\int u \\; dv = uv - \\int v \\; du$$\n",
    "\n",
    "Assuming that the function $f(t)$ may be zero at the far ends of the integration domain\n",
    "implies that the product $uv$ may be considered to vanish and hence:\n",
    "\n",
    "$$ \\int_{-\\infty}^{\\infty} e^{-i\\omega t} \\; \\dot{f}(t) \\; dt = \n",
    "   0 + i\\omega \\int_{-\\infty}^{\\infty} e^{-i\\omega t} \\; f(t) \\; dt$$\n",
    "\n",
    "and hence:\n",
    "\n",
    "$$ \\mathscr{F} \\left\\{ \\dot{f}(t) \\right\\} = i\\omega F(\\omega)$$\n",
    "\n",
    "For solving the dynamic equilibrium equation of linear systems, the second time\n",
    "derivative of $f(t)$ will also be necessary.\n",
    "Applying again the derivation rule results:\n",
    "\n",
    "$$ \\mathscr{F} \\left\\{ \\ddot{f}(t) \\right\\} = -\\omega^2 F(\\omega) $$\n",
    "\n",
    "Time derivatives of higher order can be calculated but will not be necessary in the\n",
    "present context.\n"
   ]
  },
  {
   "cell_type": "markdown",
   "metadata": {},
   "source": [
    "## 5. The convolution and translation theorems <a name=\"section_5\"></a> \n",
    "\n",
    "The convolution and translation theorems previously presented for Laplace transform\n",
    "also apply to the Fourier transform.\n",
    "The convolution reads:\n",
    "\n",
    "$$ \\mathscr{F} \\left\\{ f(t) * h(t) \\right\\} = F(\\omega) \\; H(\\omega) $$\n",
    "\n",
    "with:\n",
    "\n",
    "$$ f(t) * h(t) = \\int_{-\\infty}^{\\infty} {h(t - \\tau}) f(\\tau) \\,  \\; d\\tau$$\n",
    "\n",
    "where we are intentionally changing the notation from $\\bar{g}(s)$ and $g(t)$ \n",
    "(the unit impulse response function in Laplace Transform theory previously presented) \n",
    "to $H(\\omega)$ and $h(t)$, which will get a particular meaning in the frequency domain \n",
    "analysis with Fourier Transform.\n",
    "\n",
    "As for the Laplace Transform, the translation in frequency and time domain reads:\n",
    "\n",
    "$$ \\mathscr{F} \\left\\{ e^{\\omega_0 t} f(t) \\right\\} =  F(\\omega - \\omega_0) $$\n",
    "\n",
    "$$ \\mathscr{F} \\left\\{ f(t - \\tau) \\right\\} =  e^{-\\omega \\tau} \\; F(\\omega) $$\n",
    "\n",
    "These theorems will be of little use in this course.\n"
   ]
  },
  {
   "cell_type": "markdown",
   "metadata": {},
   "source": [
    "## 6. The Fast Fourier Transform (FFT) <a name=\"section_6\"></a> \n",
    "\n",
    "While there is no explicit form for the inverse Laplace transform, it was shown above that\n",
    "the same does not happen for the Fourier transform.\n",
    "This means that it can be numerically evaluated in both ways by means of a time and \n",
    "frequency domains discretization:\n",
    "\n",
    "\\begin{align*}\n",
    "\\omega_k &= k \\left( \\frac{2\\pi}{T} \\right), \\;\\;\\; k = 0, 1, 2, \\dots, N-1  \\\\ \\\\\n",
    "     t_j &= j \\left( \\frac{T}{N} \\right),    \\;\\;\\; j = 0, 1, 2, \\dots, N-1  \n",
    "\\end{align*}\n",
    "\n",
    "where $N$ is the length of a time series $f_j = f(t_j)$ with total duration $T$.\n",
    "The numerical calculation of the direct and inverse transforms are then:\n",
    "\n",
    "\\begin{align*}\n",
    "F_k &=             \\sum_{j=0}^{N-1} {f_j \\; \\exp\\left(-i\\omega_k t_j \\right)} \\\\ \\\\\n",
    "f_j &= \\frac{1}{N} \\sum_{k=0}^{N-1} {F_k \\; \\exp\\left( i\\omega_k t_j \\right)}\n",
    "\\end{align*}\n",
    "\n",
    "Observe that all the computation above requires $N^2$ evaluations of the \n",
    "trigonometric function $\\exp\\left(i 2\\pi k j \\right / N)$. \n",
    "Recognizing that the multiple permutations of indices $k$ and $i$ could be \n",
    "accounted to save computational time inspired the famous FFT algorithm by\n",
    "[Cooley and Tukey](https://en.wikipedia.org/wiki/Cooley%E2%80%93Tukey_FFT_algorithm),\n",
    "which may reduce the number of exponential function evaluations up to $2N$.\n",
    "This algorithm is now implemented in many digital signal processing programs\n",
    "and is also available in the ```numpy``` and ```scipy``` modules in Python.\n",
    "\n",
    "For example, let us calculate the FFT of a constant function, as presented earlier:\n"
   ]
  },
  {
   "cell_type": "code",
   "execution_count": 100,
   "metadata": {},
   "outputs": [
    {
     "name": "stdout",
     "output_type": "stream",
     "text": [
      "[1. 1. 1. 1. 1. 1. 1. 1.]\n",
      "[8. 0. 0. 0. 0. 0. 0. 0.]\n",
      "[0. 0. 0. 0. 0. 0. 0. 0.]\n",
      "[1. 1. 1. 1. 1. 1. 1. 1.]\n"
     ]
    }
   ],
   "source": [
    "N  = 8                    # length of time series\n",
    "f1 = np.ones(N)           # assigning constant value 1\n",
    "\n",
    "F  = np.fft.fft(f1)       # calling FFT numpy function from fft submodule\n",
    "f2 = np.fft.ifft(F)       # inverse transform\n",
    "\n",
    "np.set_printoptions(precision=3)\n",
    "\n",
    "print(f1)\n",
    "print(F.real)\n",
    "print(F.imag)\n",
    "print(f2.real)\n"
   ]
  },
  {
   "cell_type": "markdown",
   "metadata": {},
   "source": [
    "what shows that the result is a real impulse function (discrete Dirac's Delta) at the origin.\n",
    "\n",
    "Let us now take a look at the cosine function:"
   ]
  },
  {
   "cell_type": "code",
   "execution_count": 101,
   "metadata": {
    "scrolled": false
   },
   "outputs": [
    {
     "data": {
      "image/png": "[encoded data removed]",
      "text/plain": [
       "<Figure size 576x288 with 1 Axes>"
      ]
     },
     "metadata": {
      "needs_background": "light"
     },
     "output_type": "display_data"
    },
    {
     "data": {
      "image/png": "[encoded data removed]",
      "text/plain": [
       "<Figure size 576x432 with 2 Axes>"
      ]
     },
     "metadata": {
      "needs_background": "light"
     },
     "output_type": "display_data"
    }
   ],
   "source": [
    "T  = 1                   # series total duration\n",
    "N  = 32                  # length of time series\n",
    "f0 = 2                   # sine/cosine frequency (in Hertz)\n",
    "\n",
    "k  = np.arange(0, N+1)   # required for f_k calculation\n",
    "ti = k*T/N               # discrete time domain\n",
    "fk = k/T                 # discrete frequency domain\n",
    "\n",
    "ci = np.cos(2*np.pi*f0*ti)\n",
    "Ck = np.fft.fft(ci)\n",
    "\n",
    "plt.figure(2, figsize=(8, 4), clear=True)\n",
    "plt.plot(ti, ci)\n",
    "plt.xlim( 0, T);  plt.xlabel('time (s)') \n",
    "plt.ylim(-2, 2);  plt.ylabel('f(t)') \n",
    "plt.grid(True) \n",
    "\n",
    "plt.figure(3, figsize=(8, 6), clear=True)\n",
    "\n",
    "plt.subplot(2,1,1)\n",
    "plt.plot(fk, Ck.real)\n",
    "plt.xlim( 0, N/T);  plt.xlabel('frequency (Hz)')\n",
    "plt.ylim(-N, N  );  plt.ylabel('Real(F_k)') \n",
    "plt.grid(True) \n",
    "\n",
    "plt.subplot(2,1,2)\n",
    "plt.plot(fk, Ck.imag)\n",
    "plt.xlim( 0, N/T);  plt.xlabel('frequency (Hz)')\n",
    "plt.ylim(-N, N  );  plt.ylabel('Imag(F_k)') \n",
    "plt.grid(True) \n"
   ]
  },
  {
   "cell_type": "markdown",
   "metadata": {},
   "source": [
    "The imaginary part of the result above, which refers to the sine transform,\n",
    "is a numerical error caused by the coarse representation of the cosine function.\n",
    "Try increasing the discretization (larger ```N```) and observe what happens.\n",
    "\n",
    "There are some few important issues to better understand the numerical result above:\n",
    "\n",
    "1. To get maximum algorithm efficiency, the length $N$ must be a power of 2.\n",
    "2. The value of $F_k$ for $k = 0$ is zero if $f(t)$ has zero mean (see [constant \n",
    "   function](#section_31) above).\n",
    "3. Since there is no negative time in the numerical transform, the algorithm returns \n",
    "   a vector $F_k$ such that its second half is the complex conjugate of the first half.\n",
    "   This means that the absolute value of $F_k$ is mirrowed at $k = N/2 + 1$.\n",
    "4. Although the Fourier transform is an extension of the Fourier series concept for\n",
    "   infinite periodicity, it is very important to keep in mind that the algorithm does\n",
    "   regard $f_i$ as periodic of length $N$. This can be demonstrated by changing the\n",
    "   previous example such that the cosine discretization does not respect the due\n",
    "   cosine periodicity (for instance, set the frequency to 1.5Hz instead of 2Hz).\n"
   ]
  },
  {
   "cell_type": "markdown",
   "metadata": {},
   "source": [
    "## 7. The spectral density and the periodogram <a name=\"section_7\"></a>\n",
    "\n",
    "### 7.1. Definition <a name=\"section_71\"></a>\n",
    "\n",
    "Given an undamped oscillator with mass $m$ and stifness $k = m\\omega^2$, \n",
    "subjected to force $F(t)$. The dynamic equilibrium equation is:\n",
    "\n",
    "$$ \\ddot{u} + \\omega^2 u = F(t)/m = f(t) $$\n",
    "\n",
    "Its internal energy, $w(t)$, is given at any moment by the sum of kinectic and \n",
    "elastic energies as:\n",
    "\n",
    "$$ w(t) = \\frac{1}{2} m \\left[ \\, \\dot{u}^2 + \\omega^2 u^2 \\, \\right]$$\n",
    "\n",
    "Recalling now the system solution with the convolution integral:\n",
    "\n",
    "$$ u(t) = \\frac{1}{\\omega} \\int_{-\\infty}^{\\infty} { f(\\tau) \\; \n",
    "          \\sin \\omega_{\\rm n}(t - \\tau) \\; d\\tau}$$\n",
    "\n",
    "and calculating its time derivative with the Leibnitz' rule:\n",
    "\n",
    "$$ \\dot{u}(t) = \\int_{-\\infty}^{\\infty} { f(\\tau) \\; \\cos \\omega(t - \\tau) \\; d\\tau}$$\n",
    "\n",
    "gives that:\n",
    "\n",
    "$$ w(t) = \\frac{1}{2} m \\left\\{\n",
    "          \\left[ \\, \\int_{-\\infty}^{\\infty} { f(\\tau) \\; \\cos \\omega(t - \\tau) \\; d\\tau} \\right]^2\n",
    "        + \\left[ \\, \\int_{-\\infty}^{\\infty} { f(\\tau) \\; \\sin \\omega(t - \\tau) \\; d\\tau} \\right]^2 \n",
    "          \\right\\}  $$ \n",
    "\n",
    "Applying the suitable trigonometric relations to $\\cos \\omega(t - \\tau)$ and \n",
    "$\\sin \\omega(t - \\tau)$ and doing some algebraic work leads to:\n",
    "\n",
    "$$ w(t)   \\propto \n",
    "          \\left[ \\, \\int_{-\\infty}^{\\infty} { f(\\tau) \\; \\cos \\omega\\tau \\; d\\tau} \\right]^2\n",
    "        + \\left[ \\, \\int_{-\\infty}^{\\infty} { f(\\tau) \\; \\sin \\omega\\tau \\; d\\tau} \\right]^2 $$ \n",
    "\n",
    "By recalling Euler's formula it can be recognized that the right hand side is the \n",
    "squared absolute value for the inverse Fourier transform of $F(\\omega)$, what means that \n",
    "$\\left| F(\\omega) \\right|^2$ is a measure of energy for a physical system subjected to \n",
    "excitation $f(t)$.\n",
    "We call it the _Power Spectral Density_ of $f(t)$, $S_F(\\omega)$:\n",
    "\n",
    "$$ S_F(\\omega) \\propto \\left| F(\\omega) \\right|^2$$\n",
    "\n",
    "The missing proportion constant is chosen such that the total area under the spectral density\n",
    "for $\\omega > 0$ matches the variance (squared standard deviation) $\\sigma_F^2$ of $f(t)$:\n",
    "\n",
    "$$ \\int_0^{\\infty} S_F(\\omega) \\; d\\omega = \\sigma_F^2$$\n",
    "\n",
    "Whenever a time series $f_i$ with length $N$ is available, there are many statistical \n",
    "estimators for $S_F(\\omega)$. \n",
    "The most basic of such estimators is the _periodogram_, directly calculate with the series\n",
    "FFT.\n",
    "This estimator is available in the ```MRPy``` module as a class method.\n",
    "\n",
    "\n",
    "### 7.2. Example with a white noise <a name=\"section_72\"></a>\n",
    "\n",
    "The following example shows how use the ``MRPy`` module to simulate a (almost) perfect white \n",
    "noise, and to how visualize the simulated signal both in time and frequency domain using\n",
    "the quick visualization methods.\n"
   ]
  },
  {
   "cell_type": "code",
   "execution_count": null,
   "metadata": {},
   "outputs": [],
   "source": [
    "X  = MRPy.white_noise(1, 1024, Td=8)                          # white noise simulation\n",
    "\n",
    "f1 = X.plot_time(1, figsize=(8,3), axis_t=(0,  8, -3, 3   ))  # plot in time domain\n",
    "f2 = X.plot_freq(2, figsize=(8,3), axis_f=(0, 64,  0, 0.02))  # plot in frequency domain\n"
   ]
  },
  {
   "cell_type": "code",
   "execution_count": null,
   "metadata": {},
   "outputs": [],
   "source": [
    "SX, fs = X.periodogram()\n",
    "f      = X.f_axis()\n",
    "\n",
    "plt.figure(10)\n",
    "plt.plot(f, SX[0]);\n",
    "plt.grid(True)\n",
    "\n",
    "sX2 = np.trapz(SX[0], f)\n",
    "\n",
    "print(sX2)\n"
   ]
  },
  {
   "cell_type": "markdown",
   "metadata": {},
   "source": [
    "### 7.3. Example with an accelerometer signal <a name=\"section_73\"></a>\n",
    "\n",
    "This additional example shows how use the ``MRPy`` module to read a file with some\n",
    "acquired accelerometer signal, and how to visualize the read signal both in time and frequency domain\n",
    "using manually formatted plots.\n"
   ]
  },
  {
   "cell_type": "code",
   "execution_count": null,
   "metadata": {},
   "outputs": [],
   "source": [
    "# Reads csv file with accelerometer signal and isolates component a_z\n",
    "\n",
    "data = MRPy.from_file('resources/data/iNVH001', form='invh').zero_mean()\n",
    "az   = MRPy(data[2], data.fs)#extract((2.5,5), by='time')\n",
    "t    = az.t_axis()\n",
    "\n",
    "plt.figure(4, figsize=(8, 3), clear=True)\n",
    "plt.plot(t, az[0])\n",
    "\n",
    "plt.xlim(0, az.Td);  plt.xlabel('time (s)') \n",
    "plt.ylim(-15, 15);   plt.ylabel('a_z (m/s^2)') \n",
    "\n",
    "plt.grid(True) \n",
    "\n",
    "# Calls method for periodogram calculation and visualize\n",
    "\n",
    "Saz, fs = az.periodogram()\n",
    "f       = az.f_axis()\n",
    "\n",
    "plt.figure(5, figsize=(8, 3), clear=True)\n",
    "plt.plot(f, Saz[0])\n",
    "\n",
    "plt.xlim(0, 20);   plt.xlabel('frequency (Hz)') \n",
    "plt.ylim(0,  5);   plt.ylabel('S_az (power)') \n",
    "\n",
    "plt.grid(True) \n",
    "\n",
    "# Search for frequency associated to peak of spectrum\n",
    "\n",
    "kf = Saz[0].argmax()\n",
    "print('Frequency at spectrum peak: {0:5.2f}Hz'.format(f[kf]))\n"
   ]
  },
  {
   "cell_type": "markdown",
   "metadata": {},
   "source": [
    "From the plots above it may be concluded that the accelerometer signal has a strong\n",
    "energy density around 8Hz, what may indicate that the mechanical system presents a\n",
    "natural vibration frequency close to this value.\n"
   ]
  },
  {
   "cell_type": "markdown",
   "metadata": {},
   "source": [
    "## 8. Assignments <a name=\"section_8\"></a> \n",
    "\n",
    "1. Utilizar o mesmo registro de celular dos trabalhos anteriores.\n",
    "2. Importar os dados para a ```MRPy``` e apresentar os periodogramas\n",
    "   (estimativas das densidades espectrais), verificando qual a frequência\n",
    "   natural de vibração livre do objeto instrumentado pelo pico do gráfico.\n",
    "4. Relatório com descrição do objeto, gráficos e resultados (nome do arquivo            T5_xxxxxxxx.ipynb).\n"
   ]
  },
  {
   "cell_type": "code",
   "execution_count": null,
   "metadata": {},
   "outputs": [],
   "source": []
  }
 ],
 "metadata": {
  "kernelspec": {
   "display_name": "Python 3 (ipykernel)",
   "language": "python",
   "name": "python3"
  },
  "language_info": {
   "codemirror_mode": {
    "name": "ipython",
    "version": 3
   },
   "file_extension": ".py",
   "mimetype": "text/x-python",
   "name": "python",
   "nbconvert_exporter": "python",
   "pygments_lexer": "ipython3",
   "version": "3.9.7"
  }
 },
 "nbformat": 4,
 "nbformat_minor": 2
}
